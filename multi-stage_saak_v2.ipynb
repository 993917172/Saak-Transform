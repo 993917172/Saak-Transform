{
 "cells": [
  {
   "cell_type": "code",
   "execution_count": 7,
   "metadata": {
    "collapsed": true
   },
   "outputs": [],
   "source": [
    "# load libs\n",
    "import torch\n",
    "import argparse\n",
    "from torchvision import datasets, transforms\n",
    "import matplotlib.pyplot as plt\n",
    "import numpy as np\n",
    "from data.datasets import MNIST\n",
    "import torch.utils.data as data_utils\n",
    "from sklearn.decomposition import PCA\n",
    "import torch.nn.functional as F\n",
    "from torch.autograd import Variable"
   ]
  },
  {
   "cell_type": "code",
   "execution_count": 8,
   "metadata": {
    "collapsed": false
   },
   "outputs": [
    {
     "name": "stdout",
     "output_type": "stream",
     "text": [
      "0.2.0_4\n"
     ]
    }
   ],
   "source": [
    "'''\n",
    "@ Original 28x28 is rescaled to 32x32 to meet 2^P size\n",
    "@ batch_size and workders can be increased for faster loading\n",
    "'''\n",
    "print torch.__version__\n",
    "batch_size=1\n",
    "test_batch_size=1\n",
    "kwargs={}\n",
    "train_loader=data_utils.DataLoader(MNIST(root='./data',train=True,process=False,transform=transforms.Compose([\n",
    "    transforms.Scale((32,32)),\n",
    "    transforms.ToTensor(),\n",
    "])),batch_size=batch_size,shuffle=True,**kwargs)\n",
    "\n",
    "\n",
    "test_loader=data_utils.DataLoader(MNIST(root='./data',train=False,process=False,transform=transforms.Compose([\n",
    "    transforms.Scale((32,32)),\n",
    "    transforms.ToTensor(),\n",
    "])),batch_size=test_batch_size,shuffle=True,**kwargs)"
   ]
  },
  {
   "cell_type": "code",
   "execution_count": 9,
   "metadata": {
    "collapsed": true
   },
   "outputs": [],
   "source": [
    "'''\n",
    "@ For demo use, only use first 1000 samples\n",
    "'''\n",
    "def create_numpy_dataset():\n",
    "    datasets = []\n",
    "    for data in train_loader:\n",
    "        data_numpy = data[0].numpy()\n",
    "        data_numpy = np.squeeze(data_numpy)\n",
    "        datasets.append(data_numpy)\n",
    "\n",
    "    datasets = np.array(datasets)\n",
    "    datasets=np.expand_dims(datasets,axis=1)\n",
    "    return datasets[:100]"
   ]
  },
  {
   "cell_type": "code",
   "execution_count": 10,
   "metadata": {
    "collapsed": true
   },
   "outputs": [],
   "source": [
    "'''\n",
    "@ depth: determine shape, initial: 0\n",
    "'''\n",
    "from itertools import product\n",
    "def fit_pca_shape(datasets,depth):\n",
    "    factor=np.power(2,depth)\n",
    "    length=32/factor\n",
    "    idx1=range(0,length,2)\n",
    "    idx2=[i+2 for i in idx1]\n",
    "    data_lattice=[datasets[:,:,i:j,k:l] for ((i,j),(k,l)) in product(zip(idx1,idx2),zip(idx1,idx2))]\n",
    "    data_lattice=np.array(data_lattice)\n",
    "    print 'fit_pca_shape: data_lattice.shape: {}'.format(data_lattice.shape)\n",
    "\n",
    "    #shape reshape\n",
    "    data=np.reshape(data_lattice,(data_lattice.shape[0]*data_lattice.shape[1],data_lattice.shape[2],2,2))\n",
    "    print 'fit_pca_shape: reshape: {}'.format(data.shape)\n",
    "    return data"
   ]
  },
  {
   "cell_type": "code",
   "execution_count": 11,
   "metadata": {
    "collapsed": true
   },
   "outputs": [],
   "source": [
    "'''\n",
    "@ Prepare shape changes. \n",
    "@ return filters for convolution\n",
    "@ aug_anchors: [out_num*in_num,4] -> [out_num,in_num,2,2]\n",
    "'''\n",
    "def ret_filt_patches(aug_anchors,input_channels):\n",
    "    shape=aug_anchors.shape[1]/4\n",
    "    num=aug_anchors.shape[0]\n",
    "    filt=np.reshape(aug_anchors,(num,shape,4))\n",
    "    \n",
    "    # reshape to kernels, (# output_channels,# input_channels,2,2)\n",
    "    filters=np.reshape(filt,(num,shape,2,2))\n",
    "\n",
    "    return filters"
   ]
  },
  {
   "cell_type": "code",
   "execution_count": 12,
   "metadata": {
    "collapsed": true
   },
   "outputs": [],
   "source": [
    "'''\n",
    "@ return: augmented anchors\n",
    "'''\n",
    "def PCA_and_augment(data_in):\n",
    "    # data reshape\n",
    "    data=np.reshape(data_in,(data_in.shape[0],-1))\n",
    "    mean=np.mean(data,axis=0)\n",
    "    datas_mean_remov = data - mean\n",
    "\n",
    "    pca=PCA()\n",
    "    datas_mean_remov.astype(np.float64)\n",
    "    pca.fit(datas_mean_remov)\n",
    "    comps=pca.components_\n",
    "\n",
    "    if comps[-1][0]<0:\n",
    "        for i in comps:\n",
    "            i*=-1\n",
    "    comps_aug=[vec*(-1) for vec in comps]\n",
    "    comps_complete=np.vstack((comps,comps_aug))\n",
    "    \n",
    "    return comps_complete,mean"
   ]
  },
  {
   "cell_type": "code",
   "execution_count": 13,
   "metadata": {
    "collapsed": true
   },
   "outputs": [],
   "source": [
    "'''\n",
    "@ input: kernel and data\n",
    "@ output: conv+relu result\n",
    "'''\n",
    "def conv_and_relu(filters,datasets,stride=2):\n",
    "    # torch data change\n",
    "    \n",
    "    filters_t=torch.from_numpy(filters)\n",
    "    datasets_t=torch.from_numpy(datasets)\n",
    "\n",
    "    # Variables\n",
    "    filt=Variable(filters_t).type(torch.FloatTensor)\n",
    "    data=Variable(datasets_t).type(torch.FloatTensor)\n",
    "\n",
    "    # Convolution\n",
    "    output=F.conv2d(data,filt,stride=stride)\n",
    "\n",
    "    # Relu\n",
    "    relu_output=F.relu(output)\n",
    "\n",
    "    return relu_output,filt"
   ]
  },
  {
   "cell_type": "code",
   "execution_count": 14,
   "metadata": {
    "collapsed": true
   },
   "outputs": [],
   "source": [
    "'''\n",
    "@ One-stage Saak transform\n",
    "@ input: datasets [60000,channel,size,size]\n",
    "'''\n",
    "def one_stage_saak_trans(datasets=None,depth=0):\n",
    "\n",
    "    print 'one_stage_saak_trans: datasets.shape {}'.format(datasets.shape)\n",
    "    input_channels=datasets.shape[1]\n",
    "\n",
    "    data_flatten=fit_pca_shape(datasets,depth)\n",
    "    \n",
    "    comps_complete,mean=PCA_and_augment(data_flatten)\n",
    "\n",
    "    filters=ret_filt_patches(comps_complete,input_channels)\n",
    "    print 'one_stage_saak_trans: filters: {}'.format(filters.shape)\n",
    "\n",
    "    mean=np.mean(datasets,axis=0)\n",
    "    datasets-=mean\n",
    "    relu_output,filt=conv_and_relu(filters,datasets,stride=2)\n",
    "    res=relu_output.data.numpy()\n",
    "    \n",
    "    print 'one_stage_saak_trans final.shape: {}'.format(res.shape)\n",
    "\n",
    "    return res,filt,Variable(torch.from_numpy(res)),mean\n"
   ]
  },
  {
   "cell_type": "code",
   "execution_count": 15,
   "metadata": {
    "collapsed": true
   },
   "outputs": [],
   "source": [
    "'''\n",
    "@ Multi-stage Saak transform\n",
    "'''\n",
    "def multi_stage_saak_trans():\n",
    "    filters = []\n",
    "    outputs = []\n",
    "    means=[]\n",
    "    data=create_numpy_dataset()\n",
    "    dataset=np.copy(data)\n",
    "    num=0\n",
    "    img_len=data.shape[-1]\n",
    "    while(img_len>=2):\n",
    "        num+=1\n",
    "        img_len/=2\n",
    "\n",
    "    for i in range(num):\n",
    "        print '{} stage of saak transform: '.format(i+1)\n",
    "        data,filt,output,mean=one_stage_saak_trans(data,depth=i)\n",
    "        filters.append(filt)\n",
    "        outputs.append(output)\n",
    "        means.append(mean)\n",
    "        print ''\n",
    "\n",
    "    return dataset,filters,outputs,means"
   ]
  },
  {
   "cell_type": "code",
   "execution_count": 16,
   "metadata": {
    "collapsed": false
   },
   "outputs": [
    {
     "name": "stdout",
     "output_type": "stream",
     "text": [
      "1 stage of saak transform: \n",
      "one_stage_saak_trans: datasets.shape (100, 1, 32, 32)\n",
      "fit_pca_shape: data_lattice.shape: (256, 100, 1, 2, 2)\n",
      "fit_pca_shape: reshape: (25600, 1, 2, 2)\n",
      "one_stage_saak_trans: filters: (8, 1, 2, 2)\n",
      "one_stage_saak_trans final.shape: (100, 8, 16, 16)\n",
      "\n",
      "2 stage of saak transform: \n",
      "one_stage_saak_trans: datasets.shape (100, 8, 16, 16)\n",
      "fit_pca_shape: data_lattice.shape: (64, 100, 8, 2, 2)\n",
      "fit_pca_shape: reshape: (6400, 8, 2, 2)\n",
      "one_stage_saak_trans: filters: (64, 8, 2, 2)\n",
      "one_stage_saak_trans final.shape: (100, 64, 8, 8)\n",
      "\n",
      "3 stage of saak transform: \n",
      "one_stage_saak_trans: datasets.shape (100, 64, 8, 8)\n",
      "fit_pca_shape: data_lattice.shape: (16, 100, 64, 2, 2)\n",
      "fit_pca_shape: reshape: (1600, 64, 2, 2)\n",
      "one_stage_saak_trans: filters: (512, 64, 2, 2)\n",
      "one_stage_saak_trans final.shape: (100, 512, 4, 4)\n",
      "\n",
      "4 stage of saak transform: \n",
      "one_stage_saak_trans: datasets.shape (100, 512, 4, 4)\n",
      "fit_pca_shape: data_lattice.shape: (4, 100, 512, 2, 2)\n",
      "fit_pca_shape: reshape: (400, 512, 2, 2)\n",
      "one_stage_saak_trans: filters: (800, 512, 2, 2)\n",
      "one_stage_saak_trans final.shape: (100, 800, 2, 2)\n",
      "\n",
      "5 stage of saak transform: \n",
      "one_stage_saak_trans: datasets.shape (100, 800, 2, 2)\n",
      "fit_pca_shape: data_lattice.shape: (1, 100, 800, 2, 2)\n",
      "fit_pca_shape: reshape: (100, 800, 2, 2)\n",
      "one_stage_saak_trans: filters: (200, 800, 2, 2)\n",
      "one_stage_saak_trans final.shape: (100, 200, 1, 1)\n",
      "\n"
     ]
    }
   ],
   "source": [
    "datas,filters,outputs,means=multi_stage_saak_trans()"
   ]
  },
  {
   "cell_type": "code",
   "execution_count": 17,
   "metadata": {
    "collapsed": true
   },
   "outputs": [],
   "source": [
    "# show sample\n",
    "def show_sample(ori,rec):\n",
    "    plt.subplot(1,2,1)\n",
    "    plt.imshow(ori)\n",
    "    plt.subplot(1,2,2)\n",
    "    plt.imshow(rec)\n",
    "    plt.show()"
   ]
  },
  {
   "cell_type": "code",
   "execution_count": 18,
   "metadata": {
    "collapsed": true
   },
   "outputs": [],
   "source": [
    "import numpy as np\n",
    "\n",
    "def psnr(im1,im2):\n",
    "    diff =(im1 - im2)\n",
    "    diff=diff**2\n",
    "    rmse=np.sqrt(diff.sum())\n",
    "    psnr = 20*np.log10(1/rmse)\n",
    "    return psnr"
   ]
  },
  {
   "cell_type": "code",
   "execution_count": 19,
   "metadata": {
    "collapsed": false
   },
   "outputs": [],
   "source": [
    "'''\n",
    "@ Reconstruct from second-last stage\n",
    "@ In fact, can be from any stage\n",
    "'''\n",
    "def toy_recon(outputs,filters,means):\n",
    "    outputs=outputs[::-1][2:]\n",
    "    filters=filters[::-1][2:]\n",
    "    means=means[::-1][2:]\n",
    "    num=len(outputs)\n",
    "    data=outputs[0]\n",
    "    for i in range(num):\n",
    "        data = F.conv_transpose2d(data, filters[i], stride=2)\n",
    "        data+=Variable(torch.from_numpy(means[i]))\n",
    "    return data"
   ]
  },
  {
   "cell_type": "code",
   "execution_count": 20,
   "metadata": {
    "collapsed": false
   },
   "outputs": [],
   "source": [
    "ret=toy_recon(outputs,filters,means)"
   ]
  },
  {
   "cell_type": "code",
   "execution_count": 6,
   "metadata": {
    "collapsed": false
   },
   "outputs": [
    {
     "ename": "NameError",
     "evalue": "name 'ret' is not defined",
     "output_type": "error",
     "traceback": [
      "\u001b[0;31m---------------------------------------------------------------------------\u001b[0m",
      "\u001b[0;31mNameError\u001b[0m                                 Traceback (most recent call last)",
      "\u001b[0;32m<ipython-input-6-3b0b62ed2df2>\u001b[0m in \u001b[0;36m<module>\u001b[0;34m()\u001b[0m\n\u001b[1;32m      1\u001b[0m \u001b[0;32mfor\u001b[0m \u001b[0mi\u001b[0m \u001b[0;32min\u001b[0m \u001b[0mrange\u001b[0m\u001b[0;34m(\u001b[0m\u001b[0;36m20\u001b[0m\u001b[0;34m)\u001b[0m\u001b[0;34m:\u001b[0m\u001b[0;34m\u001b[0m\u001b[0m\n\u001b[0;32m----> 2\u001b[0;31m     \u001b[0minv_img\u001b[0m\u001b[0;34m=\u001b[0m\u001b[0mret\u001b[0m\u001b[0;34m.\u001b[0m\u001b[0mdata\u001b[0m\u001b[0;34m.\u001b[0m\u001b[0mnumpy\u001b[0m\u001b[0;34m(\u001b[0m\u001b[0;34m)\u001b[0m\u001b[0;34m[\u001b[0m\u001b[0mi\u001b[0m\u001b[0;34m]\u001b[0m\u001b[0;34m[\u001b[0m\u001b[0;36m0\u001b[0m\u001b[0;34m]\u001b[0m\u001b[0;34m\u001b[0m\u001b[0m\n\u001b[0m\u001b[1;32m      3\u001b[0m     \u001b[0mshow_sample\u001b[0m\u001b[0;34m(\u001b[0m\u001b[0mdatas\u001b[0m\u001b[0;34m[\u001b[0m\u001b[0mi\u001b[0m\u001b[0;34m]\u001b[0m\u001b[0;34m[\u001b[0m\u001b[0;36m0\u001b[0m\u001b[0;34m]\u001b[0m\u001b[0;34m,\u001b[0m\u001b[0minv_img\u001b[0m\u001b[0;34m)\u001b[0m\u001b[0;34m\u001b[0m\u001b[0m\n",
      "\u001b[0;31mNameError\u001b[0m: name 'ret' is not defined"
     ]
    }
   ],
   "source": [
    "for i in range(20): \n",
    "    inv_img=ret.data.numpy()[i][0]\n",
    "    show_sample(datas[i][0],inv_img)"
   ]
  },
  {
   "cell_type": "code",
   "execution_count": null,
   "metadata": {
    "collapsed": true
   },
   "outputs": [],
   "source": []
  }
 ],
 "metadata": {
  "anaconda-cloud": {},
  "kernelspec": {
   "display_name": "Python [default]",
   "language": "python",
   "name": "python2"
  },
  "language_info": {
   "codemirror_mode": {
    "name": "ipython",
    "version": 2
   },
   "file_extension": ".py",
   "mimetype": "text/x-python",
   "name": "python",
   "nbconvert_exporter": "python",
   "pygments_lexer": "ipython2",
   "version": "2.7.12"
  }
 },
 "nbformat": 4,
 "nbformat_minor": 1
}
